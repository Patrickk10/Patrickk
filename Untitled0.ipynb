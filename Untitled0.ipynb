{
  "nbformat": 4,
  "nbformat_minor": 0,
  "metadata": {
    "colab": {
      "provenance": [],
      "authorship_tag": "ABX9TyOxSqEWu442qZO6gGNx9Ise",
      "include_colab_link": true
    },
    "kernelspec": {
      "name": "python3",
      "display_name": "Python 3"
    },
    "language_info": {
      "name": "python"
    }
  },
  "cells": [
    {
      "cell_type": "markdown",
      "metadata": {
        "id": "view-in-github",
        "colab_type": "text"
      },
      "source": [
        "<a href=\"https://colab.research.google.com/github/Patrickk10/Patrickk/blob/main/Untitled0.ipynb\" target=\"_parent\"><img src=\"https://colab.research.google.com/assets/colab-badge.svg\" alt=\"Open In Colab\"/></a>"
      ]
    },
    {
      "cell_type": "code",
      "execution_count": null,
      "metadata": {
        "id": "izKDqmfI25A_"
      },
      "outputs": [],
      "source": []
    },
    {
      "cell_type": "markdown",
      "source": [
        "#Bloque de texto, aca copian el codigo de su programa y lo ejecutan\n",
        "\n"
      ],
      "metadata": {
        "id": "ssSmui-H26vr"
      }
    },
    {
      "cell_type": "code",
      "source": [],
      "metadata": {
        "id": "lEhvN_nz3X1M"
      },
      "execution_count": null,
      "outputs": []
    },
    {
      "cell_type": "code",
      "source": [
        "1.# bloque de codigo aca copian el codgo de su programa y lo ejecutan.\n",
        "2. # CALCULAR EL IVA\n",
        "3.# Solicitar el precio del producto\n",
        "4.#en precio pide ingresar el valor que el usuario quiera\n",
        "5.#el iva va predeterminado con el 15% pero si se `puede cambiar\n",
        "6.#y para calculas ponemos precio_con_iva = precio_producto + iva\n",
        "\n",
        "# Solicitar al usuario el precio del producto\n",
        "precio_producto = float(input(\"Introduce el precio del producto: \"))\n",
        "\n",
        "# Calcular el IVA al 15%\n",
        "iva = precio_producto * 0.15\n",
        "\n",
        "# Calcular el precio con IVA incluido\n",
        "precio_con_iva = precio_producto + iva\n",
        "\n",
        "# Mostrar los resultados\n",
        "print(f\"IVA (15%): {iva}\")\n",
        "print(f\"Precio con IVA incluido: {precio_con_iva}\")\n"
      ],
      "metadata": {
        "colab": {
          "base_uri": "https://localhost:8080/"
        },
        "id": "SxCuS_763Zq6",
        "outputId": "55490647-6343-4f3e-d60f-1e48bb46c1e7"
      },
      "execution_count": 6,
      "outputs": [
        {
          "output_type": "stream",
          "name": "stdout",
          "text": [
            "Introduce el precio del producto: 10\n",
            "Introduce el precio del producto: 10\n",
            "IVA (15%): 1.5\n",
            "Precio con IVA incluido: 11.5\n"
          ]
        }
      ]
    },
    {
      "cell_type": "code",
      "source": [
        "1. #Entrada y cálculo: Pide al usuario cuántos términos generar, luego calcula y muestra la serie utilizando un bucle que suma los dos valores anteriores de la secuencia y los actualiza.\n",
        "2. #Salida: Imprime los términos de Fibonacci en una línea, separados por comas.\n",
        "print(\"\\t Serie de Fibonnacci \\t\")\n",
        "serie = int(input(\"\\nIngrese la cantidad de valores a obtener: \"))\n",
        "\n",
        "#Declaracion de variables\n",
        "a = 0\n",
        "b = 1\n",
        "print\n",
        "for i in range(0, serie):\n",
        "    if ( i == 0):#Condiciion para el primer valor de la serie\n",
        "        print(a, end = \", \")\n",
        "    elif( i == 1):#Condiciion para el segundo valor de la serie\n",
        "        print(b, end = \", \")\n",
        "    else:\n",
        "        c = 0\n",
        "        c = a + b # Suma para la sucesion\n",
        "        print(c, end = \", \" )\n",
        "        #Actualiza valores de las variables\n",
        "        a = b\n",
        "        b = c\n",
        "input()"
      ],
      "metadata": {
        "id": "LmvWVPXh6q5A"
      },
      "execution_count": null,
      "outputs": []
    }
  ]
}